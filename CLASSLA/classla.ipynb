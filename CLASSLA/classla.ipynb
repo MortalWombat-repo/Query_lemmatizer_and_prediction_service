{
 "cells": [
  {
   "cell_type": "code",
   "execution_count": 1,
   "id": "d4b85d6d",
   "metadata": {},
   "outputs": [],
   "source": [
    "import pandas as pd\n",
    "import classla\n",
    "from kategorije_lemmatized_classla import reset_lozinke, cijena_paketa, problem_prijave, ostalo\n",
    "import string\n",
    "from sklearn.model_selection import train_test_split\n",
    "from sklearn.feature_extraction.text import TfidfVectorizer\n",
    "from sklearn.linear_model import LogisticRegression\n",
    "from sklearn.pipeline import Pipeline\n",
    "from sklearn.metrics import accuracy_score, precision_score, recall_score, f1_score\n",
    "import re\n",
    "import os\n",
    "import pickle"
   ]
  },
  {
   "cell_type": "code",
   "execution_count": 2,
   "id": "4a76c20b",
   "metadata": {},
   "outputs": [
    {
     "data": {
      "text/plain": [
       "(90, 90, 90, 90)"
      ]
     },
     "execution_count": 2,
     "metadata": {},
     "output_type": "execute_result"
    }
   ],
   "source": [
    "len(reset_lozinke) , len(problem_prijave), len(cijena_paketa), len(ostalo)"
   ]
  },
  {
   "cell_type": "code",
   "execution_count": 3,
   "id": "acb541ec",
   "metadata": {},
   "outputs": [],
   "source": [
    "data = [reset_lozinke + cijena_paketa + problem_prijave + ostalo]"
   ]
  },
  {
   "cell_type": "code",
   "execution_count": 4,
   "id": "b89e9695",
   "metadata": {},
   "outputs": [
    {
     "data": {
      "text/html": [
       "<div>\n",
       "<style scoped>\n",
       "    .dataframe tbody tr th:only-of-type {\n",
       "        vertical-align: middle;\n",
       "    }\n",
       "\n",
       "    .dataframe tbody tr th {\n",
       "        vertical-align: top;\n",
       "    }\n",
       "\n",
       "    .dataframe thead th {\n",
       "        text-align: right;\n",
       "    }\n",
       "</style>\n",
       "<table border=\"1\" class=\"dataframe\">\n",
       "  <thead>\n",
       "    <tr style=\"text-align: right;\">\n",
       "      <th></th>\n",
       "      <th>lemmatized_text</th>\n",
       "      <th>label</th>\n",
       "    </tr>\n",
       "  </thead>\n",
       "  <tbody>\n",
       "    <tr>\n",
       "      <th>0</th>\n",
       "      <td>zaboraviti biti lozinka moći li ja pomoći da o...</td>\n",
       "      <td>reset_lozinke</td>\n",
       "    </tr>\n",
       "    <tr>\n",
       "      <th>1</th>\n",
       "      <td>moliti vi trebati nov lozinka za svoj račun</td>\n",
       "      <td>reset_lozinke</td>\n",
       "    </tr>\n",
       "    <tr>\n",
       "      <th>2</th>\n",
       "      <td>ne sjećati sebe šifra kako moći promijeniti pr...</td>\n",
       "      <td>reset_lozinke</td>\n",
       "    </tr>\n",
       "    <tr>\n",
       "      <th>3</th>\n",
       "      <td>kako da zamijeniti svoj lozinka jer biti on za...</td>\n",
       "      <td>reset_lozinke</td>\n",
       "    </tr>\n",
       "    <tr>\n",
       "      <th>4</th>\n",
       "      <td>trebati link za reset lozinka moliti</td>\n",
       "      <td>reset_lozinke</td>\n",
       "    </tr>\n",
       "  </tbody>\n",
       "</table>\n",
       "</div>"
      ],
      "text/plain": [
       "                                     lemmatized_text          label\n",
       "0  zaboraviti biti lozinka moći li ja pomoći da o...  reset_lozinke\n",
       "1        moliti vi trebati nov lozinka za svoj račun  reset_lozinke\n",
       "2  ne sjećati sebe šifra kako moći promijeniti pr...  reset_lozinke\n",
       "3  kako da zamijeniti svoj lozinka jer biti on za...  reset_lozinke\n",
       "4               trebati link za reset lozinka moliti  reset_lozinke"
      ]
     },
     "execution_count": 4,
     "metadata": {},
     "output_type": "execute_result"
    }
   ],
   "source": [
    "data = reset_lozinke + cijena_paketa + problem_prijave + ostalo\n",
    "\n",
    "labels = (\n",
    "    [\"reset_lozinke\"] * len(reset_lozinke) +\n",
    "    [\"cijena_paketa\"] * len(cijena_paketa) +\n",
    "    [\"problem_prijave\"] * len(problem_prijave) +\n",
    "    [\"ostalo\"] * len(ostalo)\n",
    ")\n",
    "\n",
    "# Create DataFrame\n",
    "df = pd.DataFrame({\n",
    "    \"lemmatized_text\": data,\n",
    "    \"label\": labels\n",
    "})\n",
    "\n",
    "df.head()"
   ]
  },
  {
   "cell_type": "code",
   "execution_count": 15,
   "id": "088120db",
   "metadata": {},
   "outputs": [
    {
     "data": {
      "text/html": [
       "<div>\n",
       "<style scoped>\n",
       "    .dataframe tbody tr th:only-of-type {\n",
       "        vertical-align: middle;\n",
       "    }\n",
       "\n",
       "    .dataframe tbody tr th {\n",
       "        vertical-align: top;\n",
       "    }\n",
       "\n",
       "    .dataframe thead th {\n",
       "        text-align: right;\n",
       "    }\n",
       "</style>\n",
       "<table border=\"1\" class=\"dataframe\">\n",
       "  <thead>\n",
       "    <tr style=\"text-align: right;\">\n",
       "      <th></th>\n",
       "      <th>classla</th>\n",
       "    </tr>\n",
       "  </thead>\n",
       "  <tbody>\n",
       "    <tr>\n",
       "      <th>Accuracy</th>\n",
       "      <td>0.847222</td>\n",
       "    </tr>\n",
       "    <tr>\n",
       "      <th>Precision</th>\n",
       "      <td>0.862606</td>\n",
       "    </tr>\n",
       "    <tr>\n",
       "      <th>Recall</th>\n",
       "      <td>0.847222</td>\n",
       "    </tr>\n",
       "    <tr>\n",
       "      <th>F1-Score</th>\n",
       "      <td>0.849218</td>\n",
       "    </tr>\n",
       "  </tbody>\n",
       "</table>\n",
       "</div>"
      ],
      "text/plain": [
       "            classla\n",
       "Accuracy   0.847222\n",
       "Precision  0.862606\n",
       "Recall     0.847222\n",
       "F1-Score   0.849218"
      ]
     },
     "execution_count": 15,
     "metadata": {},
     "output_type": "execute_result"
    }
   ],
   "source": [
    "# Splitting the dataset\n",
    "X_train, X_test, y_train, y_test = train_test_split(df['lemmatized_text'], df['label'], test_size=0.2, random_state=42)\n",
    "\n",
    "# Creating a pipeline with TF/IDF vectorizer and Logistic Regression\n",
    "model = Pipeline([('tfidf', TfidfVectorizer()), ('clf', LogisticRegression())])\n",
    "\n",
    "# Training the model\n",
    "model.fit(X_train, y_train)\n",
    "\n",
    "# Predicting on the test set\n",
    "y_pred = model.predict(X_test)\n",
    "\n",
    "accuracy =  accuracy_score(y_test, y_pred)\n",
    "precision = precision_score(y_test, y_pred, average='weighted')\n",
    "recall = recall_score(y_test, y_pred, average='weighted')\n",
    "f1 = f1_score(y_test, y_pred, average='weighted')\n",
    "\n",
    "metrics = {\n",
    "    'Accuracy': accuracy,\n",
    "    'Precision': precision,\n",
    "    'Recall': recall,\n",
    "    'F1-Score': f1\n",
    "}\n",
    "\n",
    "classla_metrics = pd.DataFrame.from_dict(metrics, orient='index', columns=['classla'])\n",
    "classla_metrics"
   ]
  },
  {
   "cell_type": "code",
   "execution_count": 6,
   "id": "b86de224",
   "metadata": {},
   "outputs": [
    {
     "name": "stdout",
     "output_type": "stream",
     "text": [
      "0\n"
     ]
    }
   ],
   "source": [
    "print(df.duplicated(subset=['lemmatized_text']).sum())"
   ]
  },
  {
   "cell_type": "code",
   "execution_count": 16,
   "id": "1a092363",
   "metadata": {},
   "outputs": [
    {
     "name": "stderr",
     "output_type": "stream",
     "text": [
      "Downloading https://raw.githubusercontent.com/clarinsi/classla-resources/main/resources_2.2.json: 15.9kB [00:00, 2.59MB/s]                   \n",
      "2025-07-14 14:38:03 INFO: Downloading these customized packages for language: hr (Croatian)...\n",
      "========================\n",
      "| Processor | Package  |\n",
      "------------------------\n",
      "| tokenize  | standard |\n",
      "| pos       | standard |\n",
      "| lemma     | standard |\n",
      "| depparse  | standard |\n",
      "| ner       | standard |\n",
      "| pretrain  | standard |\n",
      "========================\n",
      "\n",
      "2025-07-14 14:38:03 INFO: File exists: /home/ikar/classla_resources/hr/pos/standard.pt.\n",
      "2025-07-14 14:38:04 INFO: File exists: /home/ikar/classla_resources/hr/lemma/standard.pt.\n",
      "2025-07-14 14:38:04 INFO: File exists: /home/ikar/classla_resources/hr/depparse/standard.pt.\n",
      "2025-07-14 14:38:04 INFO: File exists: /home/ikar/classla_resources/hr/ner/standard.pt.\n",
      "2025-07-14 14:38:05 INFO: File exists: /home/ikar/classla_resources/hr/pretrain/standard.pt.\n",
      "2025-07-14 14:38:05 INFO: Finished downloading models and saved to /home/ikar/classla_resources.\n",
      "2025-07-14 14:38:05 INFO: Loading these models for language: hr (Croatian):\n",
      "========================\n",
      "| Processor | Package  |\n",
      "------------------------\n",
      "| tokenize  | standard |\n",
      "| pos       | standard |\n",
      "| lemma     | standard |\n",
      "========================\n",
      "\n",
      "2025-07-14 14:38:05 INFO: Use device: cpu\n",
      "2025-07-14 14:38:05 INFO: Loading: tokenize\n",
      "2025-07-14 14:38:05 INFO: Loading: pos\n"
     ]
    },
    {
     "ename": "KeyboardInterrupt",
     "evalue": "",
     "output_type": "error",
     "traceback": [
      "\u001b[0;31m---------------------------------------------------------------------------\u001b[0m",
      "\u001b[0;31mKeyboardInterrupt\u001b[0m                         Traceback (most recent call last)",
      "Cell \u001b[0;32mIn[16], line 2\u001b[0m\n\u001b[1;32m      1\u001b[0m classla\u001b[38;5;241m.\u001b[39mdownload(\u001b[38;5;124m'\u001b[39m\u001b[38;5;124mhr\u001b[39m\u001b[38;5;124m'\u001b[39m)\n\u001b[0;32m----> 2\u001b[0m nlp \u001b[38;5;241m=\u001b[39m classla\u001b[38;5;241m.\u001b[39mPipeline(\u001b[38;5;124m'\u001b[39m\u001b[38;5;124mhr\u001b[39m\u001b[38;5;124m'\u001b[39m, processors\u001b[38;5;241m=\u001b[39m\u001b[38;5;124m'\u001b[39m\u001b[38;5;124mtokenize,pos,lemma\u001b[39m\u001b[38;5;124m'\u001b[39m)\n\u001b[1;32m      4\u001b[0m \u001b[38;5;28;01mdef\u001b[39;00m \u001b[38;5;21mclassla_lemmatize_croatian\u001b[39m(text):\n\u001b[1;32m      5\u001b[0m     doc \u001b[38;5;241m=\u001b[39m nlp(text)\n",
      "File \u001b[0;32m~/anaconda3/lib/python3.12/site-packages/classla/pipeline/core.py:113\u001b[0m, in \u001b[0;36mPipeline.__init__\u001b[0;34m(self, lang, dir, type, processors, logging_level, verbose, use_gpu, **kwargs)\u001b[0m\n\u001b[1;32m    110\u001b[0m logger\u001b[38;5;241m.\u001b[39mdebug(curr_processor_config)\n\u001b[1;32m    111\u001b[0m \u001b[38;5;28;01mtry\u001b[39;00m:\n\u001b[1;32m    112\u001b[0m     \u001b[38;5;66;03m# try to build processor, throw an exception if there is a requirements issue\u001b[39;00m\n\u001b[0;32m--> 113\u001b[0m     \u001b[38;5;28mself\u001b[39m\u001b[38;5;241m.\u001b[39mprocessors[processor_name] \u001b[38;5;241m=\u001b[39m NAME_TO_PROCESSOR_CLASS[processor_name](config\u001b[38;5;241m=\u001b[39mcurr_processor_config,\n\u001b[1;32m    114\u001b[0m                                                                               pipeline\u001b[38;5;241m=\u001b[39m\u001b[38;5;28mself\u001b[39m,\n\u001b[1;32m    115\u001b[0m                                                                               use_gpu\u001b[38;5;241m=\u001b[39m\u001b[38;5;28mself\u001b[39m\u001b[38;5;241m.\u001b[39muse_gpu)\n\u001b[1;32m    116\u001b[0m \u001b[38;5;28;01mexcept\u001b[39;00m ProcessorRequirementsException \u001b[38;5;28;01mas\u001b[39;00m e:\n\u001b[1;32m    117\u001b[0m     \u001b[38;5;66;03m# if there was a requirements issue, add it to list which will be printed at end\u001b[39;00m\n\u001b[1;32m    118\u001b[0m     pipeline_reqs_exceptions\u001b[38;5;241m.\u001b[39mappend(e)\n",
      "File \u001b[0;32m~/anaconda3/lib/python3.12/site-packages/classla/pipeline/processor.py:146\u001b[0m, in \u001b[0;36mUDProcessor.__init__\u001b[0;34m(self, config, pipeline, use_gpu)\u001b[0m\n\u001b[1;32m    144\u001b[0m \u001b[38;5;28mself\u001b[39m\u001b[38;5;241m.\u001b[39m_vocab \u001b[38;5;241m=\u001b[39m \u001b[38;5;28;01mNone\u001b[39;00m\n\u001b[1;32m    145\u001b[0m \u001b[38;5;28;01mif\u001b[39;00m \u001b[38;5;129;01mnot\u001b[39;00m \u001b[38;5;28mhasattr\u001b[39m(\u001b[38;5;28mself\u001b[39m, \u001b[38;5;124m'\u001b[39m\u001b[38;5;124m_variant\u001b[39m\u001b[38;5;124m'\u001b[39m):\n\u001b[0;32m--> 146\u001b[0m     \u001b[38;5;28mself\u001b[39m\u001b[38;5;241m.\u001b[39m_set_up_model(config, use_gpu)\n\u001b[1;32m    148\u001b[0m \u001b[38;5;66;03m# build the final config for the processor\u001b[39;00m\n\u001b[1;32m    149\u001b[0m \u001b[38;5;28mself\u001b[39m\u001b[38;5;241m.\u001b[39m_set_up_final_config(config)\n",
      "File \u001b[0;32m~/anaconda3/lib/python3.12/site-packages/classla/pipeline/pos_processor.py:39\u001b[0m, in \u001b[0;36mPOSProcessor._set_up_model\u001b[0;34m(self, config, use_gpu)\u001b[0m\n\u001b[1;32m     36\u001b[0m     arg[\u001b[38;5;124m'\u001b[39m\u001b[38;5;124muse_lexicon\u001b[39m\u001b[38;5;124m'\u001b[39m] \u001b[38;5;241m=\u001b[39m \u001b[38;5;28;01mTrue\u001b[39;00m\n\u001b[1;32m     38\u001b[0m \u001b[38;5;66;03m# set up trainer\u001b[39;00m\n\u001b[0;32m---> 39\u001b[0m \u001b[38;5;28mself\u001b[39m\u001b[38;5;241m.\u001b[39m_trainer \u001b[38;5;241m=\u001b[39m Trainer(args\u001b[38;5;241m=\u001b[39marg, pretrain\u001b[38;5;241m=\u001b[39m\u001b[38;5;28mself\u001b[39m\u001b[38;5;241m.\u001b[39mpretrain, model_file\u001b[38;5;241m=\u001b[39mconfig[\u001b[38;5;124m'\u001b[39m\u001b[38;5;124mmodel_path\u001b[39m\u001b[38;5;124m'\u001b[39m], use_cuda\u001b[38;5;241m=\u001b[39muse_gpu)\n",
      "File \u001b[0;32m~/anaconda3/lib/python3.12/site-packages/classla/models/pos/trainer.py:38\u001b[0m, in \u001b[0;36mTrainer.__init__\u001b[0;34m(self, args, vocab, pretrain, model_file, use_cuda)\u001b[0m\n\u001b[1;32m     35\u001b[0m \u001b[38;5;28mself\u001b[39m\u001b[38;5;241m.\u001b[39muse_cuda \u001b[38;5;241m=\u001b[39m use_cuda\n\u001b[1;32m     36\u001b[0m \u001b[38;5;28;01mif\u001b[39;00m model_file \u001b[38;5;129;01mis\u001b[39;00m \u001b[38;5;129;01mnot\u001b[39;00m \u001b[38;5;28;01mNone\u001b[39;00m:\n\u001b[1;32m     37\u001b[0m     \u001b[38;5;66;03m# load everything from file\u001b[39;00m\n\u001b[0;32m---> 38\u001b[0m     \u001b[38;5;28mself\u001b[39m\u001b[38;5;241m.\u001b[39mload(model_file, pretrain)\n\u001b[1;32m     39\u001b[0m \u001b[38;5;28;01melse\u001b[39;00m:\n\u001b[1;32m     40\u001b[0m     \u001b[38;5;66;03m# build model from scratch\u001b[39;00m\n\u001b[1;32m     41\u001b[0m     \u001b[38;5;28mself\u001b[39m\u001b[38;5;241m.\u001b[39margs \u001b[38;5;241m=\u001b[39m args\n",
      "File \u001b[0;32m~/anaconda3/lib/python3.12/site-packages/classla/models/pos/trainer.py:148\u001b[0m, in \u001b[0;36mTrainer.load\u001b[0;34m(self, filename, pretrain)\u001b[0m\n\u001b[1;32m    146\u001b[0m emb_matrix \u001b[38;5;241m=\u001b[39m \u001b[38;5;28;01mNone\u001b[39;00m\n\u001b[1;32m    147\u001b[0m \u001b[38;5;28;01mif\u001b[39;00m \u001b[38;5;28mself\u001b[39m\u001b[38;5;241m.\u001b[39margs[\u001b[38;5;124m'\u001b[39m\u001b[38;5;124mpretrain\u001b[39m\u001b[38;5;124m'\u001b[39m] \u001b[38;5;129;01mand\u001b[39;00m pretrain \u001b[38;5;129;01mis\u001b[39;00m \u001b[38;5;129;01mnot\u001b[39;00m \u001b[38;5;28;01mNone\u001b[39;00m: \u001b[38;5;66;03m# we use pretrain only if args['pretrain'] == True and pretrain is not None\u001b[39;00m\n\u001b[0;32m--> 148\u001b[0m     emb_matrix \u001b[38;5;241m=\u001b[39m pretrain\u001b[38;5;241m.\u001b[39memb\n\u001b[1;32m    149\u001b[0m \u001b[38;5;28mself\u001b[39m\u001b[38;5;241m.\u001b[39mmodel \u001b[38;5;241m=\u001b[39m Tagger(\u001b[38;5;28mself\u001b[39m\u001b[38;5;241m.\u001b[39margs, \u001b[38;5;28mself\u001b[39m\u001b[38;5;241m.\u001b[39mvocab, emb_matrix\u001b[38;5;241m=\u001b[39memb_matrix, share_hid\u001b[38;5;241m=\u001b[39m\u001b[38;5;28mself\u001b[39m\u001b[38;5;241m.\u001b[39margs[\u001b[38;5;124m'\u001b[39m\u001b[38;5;124mshare_hid\u001b[39m\u001b[38;5;124m'\u001b[39m])\n\u001b[1;32m    150\u001b[0m \u001b[38;5;28mself\u001b[39m\u001b[38;5;241m.\u001b[39mmodel\u001b[38;5;241m.\u001b[39mload_state_dict(checkpoint[\u001b[38;5;124m'\u001b[39m\u001b[38;5;124mmodel\u001b[39m\u001b[38;5;124m'\u001b[39m], strict\u001b[38;5;241m=\u001b[39m\u001b[38;5;28;01mFalse\u001b[39;00m)\n",
      "File \u001b[0;32m~/anaconda3/lib/python3.12/site-packages/classla/models/common/pretrain.py:41\u001b[0m, in \u001b[0;36mPretrain.emb\u001b[0;34m(self)\u001b[0m\n\u001b[1;32m     38\u001b[0m \u001b[38;5;129m@property\u001b[39m\n\u001b[1;32m     39\u001b[0m \u001b[38;5;28;01mdef\u001b[39;00m \u001b[38;5;21memb\u001b[39m(\u001b[38;5;28mself\u001b[39m):\n\u001b[1;32m     40\u001b[0m     \u001b[38;5;28;01mif\u001b[39;00m \u001b[38;5;129;01mnot\u001b[39;00m \u001b[38;5;28mhasattr\u001b[39m(\u001b[38;5;28mself\u001b[39m, \u001b[38;5;124m'\u001b[39m\u001b[38;5;124m_emb\u001b[39m\u001b[38;5;124m'\u001b[39m):\n\u001b[0;32m---> 41\u001b[0m         \u001b[38;5;28mself\u001b[39m\u001b[38;5;241m.\u001b[39m_vocab, \u001b[38;5;28mself\u001b[39m\u001b[38;5;241m.\u001b[39m_emb \u001b[38;5;241m=\u001b[39m \u001b[38;5;28mself\u001b[39m\u001b[38;5;241m.\u001b[39mload()\n\u001b[1;32m     42\u001b[0m     \u001b[38;5;28;01mreturn\u001b[39;00m \u001b[38;5;28mself\u001b[39m\u001b[38;5;241m.\u001b[39m_emb\n",
      "File \u001b[0;32m~/anaconda3/lib/python3.12/site-packages/classla/models/common/pretrain.py:47\u001b[0m, in \u001b[0;36mPretrain.load\u001b[0;34m(self)\u001b[0m\n\u001b[1;32m     45\u001b[0m \u001b[38;5;28;01mif\u001b[39;00m \u001b[38;5;28mself\u001b[39m\u001b[38;5;241m.\u001b[39mfilename \u001b[38;5;129;01mis\u001b[39;00m \u001b[38;5;129;01mnot\u001b[39;00m \u001b[38;5;28;01mNone\u001b[39;00m \u001b[38;5;129;01mand\u001b[39;00m os\u001b[38;5;241m.\u001b[39mpath\u001b[38;5;241m.\u001b[39mexists(\u001b[38;5;28mself\u001b[39m\u001b[38;5;241m.\u001b[39mfilename):\n\u001b[1;32m     46\u001b[0m     \u001b[38;5;28;01mtry\u001b[39;00m:\n\u001b[0;32m---> 47\u001b[0m         data \u001b[38;5;241m=\u001b[39m torch\u001b[38;5;241m.\u001b[39mload(\u001b[38;5;28mself\u001b[39m\u001b[38;5;241m.\u001b[39mfilename, \u001b[38;5;28;01mlambda\u001b[39;00m storage, loc: storage, weights_only\u001b[38;5;241m=\u001b[39m\u001b[38;5;28;01mFalse\u001b[39;00m)\n\u001b[1;32m     48\u001b[0m         logger\u001b[38;5;241m.\u001b[39mdebug(\u001b[38;5;124m\"\u001b[39m\u001b[38;5;124mLoaded pretrain from \u001b[39m\u001b[38;5;132;01m{}\u001b[39;00m\u001b[38;5;124m\"\u001b[39m\u001b[38;5;241m.\u001b[39mformat(\u001b[38;5;28mself\u001b[39m\u001b[38;5;241m.\u001b[39mfilename))\n\u001b[1;32m     49\u001b[0m     \u001b[38;5;28;01mexcept\u001b[39;00m (\u001b[38;5;167;01mKeyboardInterrupt\u001b[39;00m, \u001b[38;5;167;01mSystemExit\u001b[39;00m):\n",
      "File \u001b[0;32m~/anaconda3/lib/python3.12/site-packages/torch/serialization.py:1471\u001b[0m, in \u001b[0;36mload\u001b[0;34m(f, map_location, pickle_module, weights_only, mmap, **pickle_load_args)\u001b[0m\n\u001b[1;32m   1469\u001b[0m             \u001b[38;5;28;01mexcept\u001b[39;00m pickle\u001b[38;5;241m.\u001b[39mUnpicklingError \u001b[38;5;28;01mas\u001b[39;00m e:\n\u001b[1;32m   1470\u001b[0m                 \u001b[38;5;28;01mraise\u001b[39;00m pickle\u001b[38;5;241m.\u001b[39mUnpicklingError(_get_wo_message(\u001b[38;5;28mstr\u001b[39m(e))) \u001b[38;5;28;01mfrom\u001b[39;00m \u001b[38;5;28;01mNone\u001b[39;00m\n\u001b[0;32m-> 1471\u001b[0m         \u001b[38;5;28;01mreturn\u001b[39;00m _load(\n\u001b[1;32m   1472\u001b[0m             opened_zipfile,\n\u001b[1;32m   1473\u001b[0m             map_location,\n\u001b[1;32m   1474\u001b[0m             pickle_module,\n\u001b[1;32m   1475\u001b[0m             overall_storage\u001b[38;5;241m=\u001b[39moverall_storage,\n\u001b[1;32m   1476\u001b[0m             \u001b[38;5;241m*\u001b[39m\u001b[38;5;241m*\u001b[39mpickle_load_args,\n\u001b[1;32m   1477\u001b[0m         )\n\u001b[1;32m   1478\u001b[0m \u001b[38;5;28;01mif\u001b[39;00m mmap:\n\u001b[1;32m   1479\u001b[0m     f_name \u001b[38;5;241m=\u001b[39m \u001b[38;5;124m\"\u001b[39m\u001b[38;5;124m\"\u001b[39m \u001b[38;5;28;01mif\u001b[39;00m \u001b[38;5;129;01mnot\u001b[39;00m \u001b[38;5;28misinstance\u001b[39m(f, \u001b[38;5;28mstr\u001b[39m) \u001b[38;5;28;01melse\u001b[39;00m \u001b[38;5;124mf\u001b[39m\u001b[38;5;124m\"\u001b[39m\u001b[38;5;132;01m{\u001b[39;00mf\u001b[38;5;132;01m}\u001b[39;00m\u001b[38;5;124m, \u001b[39m\u001b[38;5;124m\"\u001b[39m\n",
      "File \u001b[0;32m~/anaconda3/lib/python3.12/site-packages/torch/serialization.py:1964\u001b[0m, in \u001b[0;36m_load\u001b[0;34m(zip_file, map_location, pickle_module, pickle_file, overall_storage, **pickle_load_args)\u001b[0m\n\u001b[1;32m   1962\u001b[0m \u001b[38;5;28;01mglobal\u001b[39;00m _serialization_tls\n\u001b[1;32m   1963\u001b[0m _serialization_tls\u001b[38;5;241m.\u001b[39mmap_location \u001b[38;5;241m=\u001b[39m map_location\n\u001b[0;32m-> 1964\u001b[0m result \u001b[38;5;241m=\u001b[39m unpickler\u001b[38;5;241m.\u001b[39mload()\n\u001b[1;32m   1965\u001b[0m _serialization_tls\u001b[38;5;241m.\u001b[39mmap_location \u001b[38;5;241m=\u001b[39m \u001b[38;5;28;01mNone\u001b[39;00m\n\u001b[1;32m   1967\u001b[0m torch\u001b[38;5;241m.\u001b[39m_utils\u001b[38;5;241m.\u001b[39m_validate_loaded_sparse_tensors()\n",
      "File \u001b[0;32m~/anaconda3/lib/python3.12/site-packages/torch/serialization.py:1946\u001b[0m, in \u001b[0;36m_load.<locals>.UnpicklerWrapper.find_class\u001b[0;34m(self, mod_name, name)\u001b[0m\n\u001b[1;32m   1942\u001b[0m \u001b[38;5;28;01mclass\u001b[39;00m \u001b[38;5;21;01mUnpicklerWrapper\u001b[39;00m(pickle_module\u001b[38;5;241m.\u001b[39mUnpickler):  \u001b[38;5;66;03m# type: ignore[name-defined]\u001b[39;00m\n\u001b[1;32m   1943\u001b[0m     \u001b[38;5;66;03m# from https://stackoverflow.com/questions/13398462/unpickling-python-objects-with-a-changed-module-path/13405732\u001b[39;00m\n\u001b[1;32m   1944\u001b[0m     \u001b[38;5;66;03m# Lets us override the imports that pickle uses when unpickling an object.\u001b[39;00m\n\u001b[1;32m   1945\u001b[0m     \u001b[38;5;66;03m# This is useful for maintaining BC if we change a module path that tensor instantiation relies on.\u001b[39;00m\n\u001b[0;32m-> 1946\u001b[0m     \u001b[38;5;28;01mdef\u001b[39;00m \u001b[38;5;21mfind_class\u001b[39m(\u001b[38;5;28mself\u001b[39m, mod_name, name):\n\u001b[1;32m   1947\u001b[0m         \u001b[38;5;28;01mif\u001b[39;00m \u001b[38;5;28mtype\u001b[39m(name) \u001b[38;5;129;01mis\u001b[39;00m \u001b[38;5;28mstr\u001b[39m \u001b[38;5;129;01mand\u001b[39;00m \u001b[38;5;124m\"\u001b[39m\u001b[38;5;124mStorage\u001b[39m\u001b[38;5;124m\"\u001b[39m \u001b[38;5;129;01min\u001b[39;00m name:\n\u001b[1;32m   1948\u001b[0m             \u001b[38;5;28;01mtry\u001b[39;00m:\n",
      "\u001b[0;31mKeyboardInterrupt\u001b[0m: "
     ]
    }
   ],
   "source": [
    "classla.download('hr')\n",
    "nlp = classla.Pipeline('hr', processors='tokenize,pos,lemma')\n",
    "\n",
    "def classla_lemmatize_croatian(text):\n",
    "    doc = nlp(text)\n",
    "    return ' '.join([word.lemma for sent in doc.sentences for word in sent.words])"
   ]
  },
  {
   "cell_type": "code",
   "execution_count": 8,
   "id": "4d5ad880",
   "metadata": {},
   "outputs": [
    {
     "name": "stdout",
     "output_type": "stream",
     "text": [
      "\n",
      "Input: kako htjeti lozinka resetirati ?\n",
      "Class: cijena_paketa, Probability: 0.1311\n",
      "Class: ostalo, Probability: 0.3335\n",
      "Class: problem_prijave, Probability: 0.1146\n",
      "Class: reset_lozinke, Probability: 0.4208\n",
      "\n",
      "Predicted class: reset_lozinke\n"
     ]
    }
   ],
   "source": [
    "text = \"Kako ću lozinku resetirati?\"\n",
    "\n",
    "lemmatized_text = classla_lemmatize_croatian(text)\n",
    "\n",
    "# Wrap the lemmatized text in a list\n",
    "lemmatized_input = [lemmatized_text]\n",
    "\n",
    "# Probability predictions\n",
    "proba = model.predict_proba(lemmatized_input)\n",
    "# Print class probabilities with labels\n",
    "for text, probs in zip(lemmatized_input, proba):\n",
    "    print(f\"\\nInput: {text}\")\n",
    "    for cls, prob in zip(model.classes_, probs):\n",
    "        print(f\"Class: {cls}, Probability: {prob:.4f}\")\n",
    "\n",
    "# Print predicted class\n",
    "print(\"\\nPredicted class:\", model.predict(lemmatized_input)[0])"
   ]
  },
  {
   "cell_type": "code",
   "execution_count": 9,
   "id": "2073320f",
   "metadata": {},
   "outputs": [
    {
     "name": "stdout",
     "output_type": "stream",
     "text": [
      "\n",
      "Input: pojasniti ja vaš paket .\n",
      "Class: cijena_paketa, Probability: 0.7698\n",
      "Class: ostalo, Probability: 0.0673\n",
      "Class: problem_prijave, Probability: 0.0969\n",
      "Class: reset_lozinke, Probability: 0.0659\n",
      "\n",
      "Predicted class: cijena_paketa\n"
     ]
    }
   ],
   "source": [
    "text = \"Pojasnite mi vaše pakete.\"\n",
    "\n",
    "lemmatized_text = classla_lemmatize_croatian(text)\n",
    "\n",
    "# Wrap the lemmatized text in a list\n",
    "lemmatized_input = [lemmatized_text]\n",
    "\n",
    "# Probability predictions\n",
    "proba = model.predict_proba(lemmatized_input)\n",
    "# Print class probabilities with labels\n",
    "for text, probs in zip(lemmatized_input, proba):\n",
    "    print(f\"\\nInput: {text}\")\n",
    "    for cls, prob in zip(model.classes_, probs):\n",
    "        print(f\"Class: {cls}, Probability: {prob:.4f}\")\n",
    "\n",
    "# Print predicted class\n",
    "print(\"\\nPredicted class:\", model.predict(lemmatized_input)[0])"
   ]
  },
  {
   "cell_type": "markdown",
   "id": "f0bc519f",
   "metadata": {},
   "source": [
    "## With Stopwords (is surprisingly worse)"
   ]
  },
  {
   "cell_type": "code",
   "execution_count": 10,
   "id": "b4a83bdf",
   "metadata": {},
   "outputs": [],
   "source": [
    "# Correctly get the file path from the parent directory\n",
    "stopwords_path = os.path.join(os.path.abspath('..'), 'croatian_stopwords.txt')\n",
    "\n",
    "# Open and load the stopwords\n",
    "with open(stopwords_path, encoding='utf-8') as f:\n",
    "    stopwords_hr = {w.strip() for w in f if w.strip()}"
   ]
  },
  {
   "cell_type": "code",
   "execution_count": 11,
   "id": "01a51642",
   "metadata": {},
   "outputs": [],
   "source": [
    "def clean_text(text, stopwords):\n",
    "    text = text.strip().lower()\n",
    "    text = re.sub(f\"[{re.escape(string.punctuation)}]\", \"\", text)\n",
    "    text = re.sub(r\"\\d+\", \"\", text)\n",
    "    tokens = text.split()\n",
    "    filtered = [t for t in tokens if t not in stopwords]\n",
    "    return \" \".join(filtered)"
   ]
  },
  {
   "cell_type": "code",
   "execution_count": 12,
   "id": "37ce5209",
   "metadata": {},
   "outputs": [
    {
     "name": "stdout",
     "output_type": "stream",
     "text": [
      "\n",
      "Input: lozinka resetirati\n",
      "Class: cijena_paketa, Probability: 0.1317\n",
      "Class: ostalo, Probability: 0.1588\n",
      "Class: problem_prijave, Probability: 0.1421\n",
      "Class: reset_lozinke, Probability: 0.5673\n",
      "\n",
      "Predicted class: reset_lozinke\n"
     ]
    }
   ],
   "source": [
    "# Original text\n",
    "text = [\"Kako ću lozinku resetirati?\"]\n",
    "\n",
    "# Clean each sentence\n",
    "new_text_clean = [clean_text(sentence, stopwords_hr) for sentence in text]\n",
    "\n",
    "# Lemmatize each cleaned sentence\n",
    "lemmatized_texts = [classla_lemmatize_croatian(sentence) for sentence in new_text_clean]\n",
    "\n",
    "# Predict probabilities using the lemmatized text(s)\n",
    "proba = model.predict_proba(lemmatized_texts)\n",
    "\n",
    "# Output probabilities\n",
    "for sentence, probs in zip(lemmatized_texts, proba):\n",
    "    print(f\"\\nInput: {sentence}\")\n",
    "    for cls, prob in zip(model.classes_, probs):\n",
    "        print(f\"Class: {cls}, Probability: {prob:.4f}\")\n",
    "\n",
    "# Print predicted class\n",
    "print(\"\\nPredicted class:\", model.predict(lemmatized_texts)[0])\n"
   ]
  },
  {
   "cell_type": "code",
   "execution_count": 13,
   "id": "39c43496",
   "metadata": {},
   "outputs": [
    {
     "name": "stdout",
     "output_type": "stream",
     "text": [
      "\n",
      "Input: pojasniti paket\n",
      "Class: cijena_paketa, Probability: 0.6584\n",
      "Class: ostalo, Probability: 0.1245\n",
      "Class: problem_prijave, Probability: 0.1304\n",
      "Class: reset_lozinke, Probability: 0.0866\n",
      "\n",
      "Predicted class: cijena_paketa\n"
     ]
    }
   ],
   "source": [
    "# Original text\n",
    "text = [\"Pojasnite mi vaše pakete.\"]\n",
    "\n",
    "# Clean each sentence\n",
    "new_text_clean = [clean_text(sentence, stopwords_hr) for sentence in text]\n",
    "\n",
    "# Lemmatize each cleaned sentence\n",
    "lemmatized_texts = [classla_lemmatize_croatian(sentence) for sentence in new_text_clean]\n",
    "\n",
    "# Predict probabilities using the lemmatized text(s)\n",
    "proba = model.predict_proba(lemmatized_texts)\n",
    "\n",
    "# Output probabilities\n",
    "for sentence, probs in zip(lemmatized_texts, proba):\n",
    "    print(f\"\\nInput: {sentence}\")\n",
    "    for cls, prob in zip(model.classes_, probs):\n",
    "        print(f\"Class: {cls}, Probability: {prob:.4f}\")\n",
    "\n",
    "# Print predicted class\n",
    "print(\"\\nPredicted class:\", model.predict(lemmatized_texts)[0])\n"
   ]
  },
  {
   "cell_type": "code",
   "execution_count": null,
   "id": "7aa9b700",
   "metadata": {},
   "outputs": [],
   "source": [
    "# Save the trained model\n",
    "with open('model.bin', 'wb') as f:\n",
    "    pickle.dump(model, f)"
   ]
  }
 ],
 "metadata": {
  "kernelspec": {
   "display_name": "base",
   "language": "python",
   "name": "python3"
  },
  "language_info": {
   "codemirror_mode": {
    "name": "ipython",
    "version": 3
   },
   "file_extension": ".py",
   "mimetype": "text/x-python",
   "name": "python",
   "nbconvert_exporter": "python",
   "pygments_lexer": "ipython3",
   "version": "3.12.7"
  }
 },
 "nbformat": 4,
 "nbformat_minor": 5
}
