{
 "cells": [
  {
   "cell_type": "code",
   "execution_count": 1,
   "id": "d4b85d6d",
   "metadata": {},
   "outputs": [],
   "source": [
    "import pandas as pd\n",
    "from kategorije_lemmatized_nltk import reset_lozinke, cijena_paketa, problem_prijave, ostalo\n",
    "import string\n",
    "from sklearn.model_selection import train_test_split\n",
    "from sklearn.feature_extraction.text import TfidfVectorizer\n",
    "from sklearn.linear_model import LogisticRegression\n",
    "from sklearn.pipeline import Pipeline\n",
    "import nltk\n",
    "from nltk.stem.porter import PorterStemmer\n",
    "from nltk.stem import WordNetLemmatizer\n",
    "from sklearn.metrics import accuracy_score, precision_score, recall_score, f1_score\n",
    "import re\n",
    "import os\n",
    "import pickle"
   ]
  },
  {
   "cell_type": "code",
   "execution_count": 2,
   "id": "4a76c20b",
   "metadata": {},
   "outputs": [
    {
     "data": {
      "text/plain": [
       "(90, 90, 90, 90)"
      ]
     },
     "execution_count": 2,
     "metadata": {},
     "output_type": "execute_result"
    }
   ],
   "source": [
    "len(reset_lozinke) , len(problem_prijave), len(cijena_paketa), len(ostalo)"
   ]
  },
  {
   "cell_type": "code",
   "execution_count": 3,
   "id": "acb541ec",
   "metadata": {},
   "outputs": [],
   "source": [
    "data = [reset_lozinke + cijena_paketa + problem_prijave + ostalo]"
   ]
  },
  {
   "cell_type": "code",
   "execution_count": 4,
   "id": "b89e9695",
   "metadata": {},
   "outputs": [
    {
     "data": {
      "text/html": [
       "<div>\n",
       "<style scoped>\n",
       "    .dataframe tbody tr th:only-of-type {\n",
       "        vertical-align: middle;\n",
       "    }\n",
       "\n",
       "    .dataframe tbody tr th {\n",
       "        vertical-align: top;\n",
       "    }\n",
       "\n",
       "    .dataframe thead th {\n",
       "        text-align: right;\n",
       "    }\n",
       "</style>\n",
       "<table border=\"1\" class=\"dataframe\">\n",
       "  <thead>\n",
       "    <tr style=\"text-align: right;\">\n",
       "      <th></th>\n",
       "      <th>lemmatized_text</th>\n",
       "      <th>label</th>\n",
       "    </tr>\n",
       "  </thead>\n",
       "  <tbody>\n",
       "    <tr>\n",
       "      <th>0</th>\n",
       "      <td>zaboravio sam lozinku možete li mi pomoći da j...</td>\n",
       "      <td>reset_lozinke</td>\n",
       "    </tr>\n",
       "    <tr>\n",
       "      <th>1</th>\n",
       "      <td>molim va trebam novu lozinku za svoj račun</td>\n",
       "      <td>reset_lozinke</td>\n",
       "    </tr>\n",
       "    <tr>\n",
       "      <th>2</th>\n",
       "      <td>ne sjećam se šifre kako mogu promijeniti prist...</td>\n",
       "      <td>reset_lozinke</td>\n",
       "    </tr>\n",
       "    <tr>\n",
       "      <th>3</th>\n",
       "      <td>kako da zamijenim svoju lozinku jer sam je zab...</td>\n",
       "      <td>reset_lozinke</td>\n",
       "    </tr>\n",
       "    <tr>\n",
       "      <th>4</th>\n",
       "      <td>trebam link za reset lozinke molim</td>\n",
       "      <td>reset_lozinke</td>\n",
       "    </tr>\n",
       "  </tbody>\n",
       "</table>\n",
       "</div>"
      ],
      "text/plain": [
       "                                     lemmatized_text          label\n",
       "0  zaboravio sam lozinku možete li mi pomoći da j...  reset_lozinke\n",
       "1         molim va trebam novu lozinku za svoj račun  reset_lozinke\n",
       "2  ne sjećam se šifre kako mogu promijeniti prist...  reset_lozinke\n",
       "3  kako da zamijenim svoju lozinku jer sam je zab...  reset_lozinke\n",
       "4                 trebam link za reset lozinke molim  reset_lozinke"
      ]
     },
     "execution_count": 4,
     "metadata": {},
     "output_type": "execute_result"
    }
   ],
   "source": [
    "data = reset_lozinke + cijena_paketa + problem_prijave + ostalo\n",
    "\n",
    "labels = (\n",
    "    [\"reset_lozinke\"] * len(reset_lozinke) +\n",
    "    [\"cijena_paketa\"] * len(cijena_paketa) +\n",
    "    [\"problem_prijave\"] * len(problem_prijave) +\n",
    "    [\"ostalo\"] * len(ostalo)\n",
    ")\n",
    "\n",
    "# Create DataFrame\n",
    "df = pd.DataFrame({\n",
    "    \"lemmatized_text\": data,\n",
    "    \"label\": labels\n",
    "})\n",
    "\n",
    "df.head()"
   ]
  },
  {
   "cell_type": "code",
   "execution_count": 5,
   "id": "088120db",
   "metadata": {},
   "outputs": [
    {
     "data": {
      "text/html": [
       "<div>\n",
       "<style scoped>\n",
       "    .dataframe tbody tr th:only-of-type {\n",
       "        vertical-align: middle;\n",
       "    }\n",
       "\n",
       "    .dataframe tbody tr th {\n",
       "        vertical-align: top;\n",
       "    }\n",
       "\n",
       "    .dataframe thead th {\n",
       "        text-align: right;\n",
       "    }\n",
       "</style>\n",
       "<table border=\"1\" class=\"dataframe\">\n",
       "  <thead>\n",
       "    <tr style=\"text-align: right;\">\n",
       "      <th></th>\n",
       "      <th>nltk</th>\n",
       "    </tr>\n",
       "  </thead>\n",
       "  <tbody>\n",
       "    <tr>\n",
       "      <th>Accuracy</th>\n",
       "      <td>0.875000</td>\n",
       "    </tr>\n",
       "    <tr>\n",
       "      <th>Precision</th>\n",
       "      <td>0.884959</td>\n",
       "    </tr>\n",
       "    <tr>\n",
       "      <th>Recall</th>\n",
       "      <td>0.875000</td>\n",
       "    </tr>\n",
       "    <tr>\n",
       "      <th>F1-Score</th>\n",
       "      <td>0.876421</td>\n",
       "    </tr>\n",
       "  </tbody>\n",
       "</table>\n",
       "</div>"
      ],
      "text/plain": [
       "               nltk\n",
       "Accuracy   0.875000\n",
       "Precision  0.884959\n",
       "Recall     0.875000\n",
       "F1-Score   0.876421"
      ]
     },
     "execution_count": 5,
     "metadata": {},
     "output_type": "execute_result"
    }
   ],
   "source": [
    "# Splitting the dataset\n",
    "X_train, X_test, y_train, y_test = train_test_split(df['lemmatized_text'], df['label'], test_size=0.2, random_state=42)\n",
    "\n",
    "# Creating a pipeline with TF/IDF vectorizer and Logistic Regression\n",
    "model = Pipeline([('tfidf', TfidfVectorizer()), ('clf', LogisticRegression())])\n",
    "\n",
    "# Training the model\n",
    "model.fit(X_train, y_train)\n",
    "\n",
    "# Predicting on the test set\n",
    "y_pred = model.predict(X_test)\n",
    "\n",
    "accuracy =  accuracy_score(y_test, y_pred)\n",
    "precision = precision_score(y_test, y_pred, average='weighted')\n",
    "recall = recall_score(y_test, y_pred, average='weighted')\n",
    "f1 = f1_score(y_test, y_pred, average='weighted')\n",
    "\n",
    "metrics = {\n",
    "    'Accuracy': accuracy,\n",
    "    'Precision': precision,\n",
    "    'Recall': recall,\n",
    "    'F1-Score': f1\n",
    "}\n",
    "\n",
    "nltk_metrics = pd.DataFrame.from_dict(metrics, orient='index', columns=['nltk'])\n",
    "nltk_metrics"
   ]
  },
  {
   "cell_type": "code",
   "execution_count": 6,
   "id": "b86de224",
   "metadata": {},
   "outputs": [
    {
     "name": "stdout",
     "output_type": "stream",
     "text": [
      "0\n"
     ]
    }
   ],
   "source": [
    "print(df.duplicated(subset=['lemmatized_text']).sum())"
   ]
  },
  {
   "cell_type": "code",
   "execution_count": 7,
   "id": "1a092363",
   "metadata": {},
   "outputs": [
    {
     "name": "stderr",
     "output_type": "stream",
     "text": [
      "[nltk_data] Downloading package wordnet to /home/ikar/nltk_data...\n",
      "[nltk_data]   Package wordnet is already up-to-date!\n"
     ]
    }
   ],
   "source": [
    "''' NLTK in wordnet only in English'''\n",
    "# NLTK data for lemmatization\n",
    "nltk.download('wordnet')\n",
    "\n",
    "# Initialize stemmer and lemmatizer\n",
    "stemmer = PorterStemmer()\n",
    "lemmatizer = WordNetLemmatizer()\n",
    "\n",
    "# Function to apply stemming\n",
    "def stem_text(text):\n",
    "    return ' '.join([stemmer.stem(word) for word in text.split()])\n",
    "\n",
    "# Function to apply lemmatization\n",
    "def lemmatize_text(text):\n",
    "    return ' '.join([lemmatizer.lemmatize(word) for word in text.split()])"
   ]
  },
  {
   "cell_type": "code",
   "execution_count": 8,
   "id": "4d5ad880",
   "metadata": {},
   "outputs": [
    {
     "name": "stdout",
     "output_type": "stream",
     "text": [
      "\n",
      "Input: Kako ću lozinku resetirati?\n",
      "Class: cijena_paketa, Probability: 0.1720\n",
      "Class: ostalo, Probability: 0.3328\n",
      "Class: problem_prijave, Probability: 0.1334\n",
      "Class: reset_lozinke, Probability: 0.3619\n",
      "\n",
      "Predicted class: reset_lozinke\n"
     ]
    }
   ],
   "source": [
    "text = \"Kako ću lozinku resetirati?\"\n",
    "\n",
    "lemmatized_text = lemmatize_text(text)\n",
    "\n",
    "# Wrap the lemmatized text in a list\n",
    "lemmatized_input = [lemmatized_text]\n",
    "\n",
    "# Probability predictions\n",
    "proba = model.predict_proba(lemmatized_input)\n",
    "# Print class probabilities with labels\n",
    "for text, probs in zip(lemmatized_input, proba):\n",
    "    print(f\"\\nInput: {text}\")\n",
    "    for cls, prob in zip(model.classes_, probs):\n",
    "        print(f\"Class: {cls}, Probability: {prob:.4f}\")\n",
    "\n",
    "# Print predicted class\n",
    "print(\"\\nPredicted class:\", model.predict(lemmatized_input)[0])"
   ]
  },
  {
   "cell_type": "code",
   "execution_count": 9,
   "id": "2073320f",
   "metadata": {},
   "outputs": [
    {
     "name": "stdout",
     "output_type": "stream",
     "text": [
      "\n",
      "Input: Pojasnite mi vaše pakete.\n",
      "Class: cijena_paketa, Probability: 0.3929\n",
      "Class: ostalo, Probability: 0.1717\n",
      "Class: problem_prijave, Probability: 0.2264\n",
      "Class: reset_lozinke, Probability: 0.2090\n",
      "\n",
      "Predicted class: cijena_paketa\n"
     ]
    }
   ],
   "source": [
    "text = \"Pojasnite mi vaše pakete.\"\n",
    "\n",
    "lemmatized_text = lemmatize_text(text)\n",
    "\n",
    "# Wrap the lemmatized text in a list\n",
    "lemmatized_input = [lemmatized_text]\n",
    "\n",
    "# Probability predictions\n",
    "proba = model.predict_proba(lemmatized_input)\n",
    "# Print class probabilities with labels\n",
    "for text, probs in zip(lemmatized_input, proba):\n",
    "    print(f\"\\nInput: {text}\")\n",
    "    for cls, prob in zip(model.classes_, probs):\n",
    "        print(f\"Class: {cls}, Probability: {prob:.4f}\")\n",
    "\n",
    "# Print predicted class\n",
    "print(\"\\nPredicted class:\", model.predict(lemmatized_input)[0])"
   ]
  },
  {
   "cell_type": "markdown",
   "id": "f0bc519f",
   "metadata": {},
   "source": [
    "## With Stopwords"
   ]
  },
  {
   "cell_type": "code",
   "execution_count": 10,
   "id": "b4a83bdf",
   "metadata": {},
   "outputs": [],
   "source": [
    "# Correctly get the file path from the parent directory\n",
    "stopwords_path = os.path.join(os.path.abspath('..'), 'croatian_stopwords.txt')\n",
    "\n",
    "# Open and load the stopwords\n",
    "with open(stopwords_path, encoding='utf-8') as f:\n",
    "    stopwords_hr = {w.strip() for w in f if w.strip()}"
   ]
  },
  {
   "cell_type": "code",
   "execution_count": 11,
   "id": "01a51642",
   "metadata": {},
   "outputs": [],
   "source": [
    "def clean_text(text, stopwords):\n",
    "    text = text.strip().lower()\n",
    "    text = re.sub(f\"[{re.escape(string.punctuation)}]\", \"\", text)\n",
    "    text = re.sub(r\"\\d+\", \"\", text)\n",
    "    tokens = text.split()\n",
    "    filtered = [t for t in tokens if t not in stopwords]\n",
    "    return \" \".join(filtered)"
   ]
  },
  {
   "cell_type": "code",
   "execution_count": 12,
   "id": "37ce5209",
   "metadata": {},
   "outputs": [
    {
     "name": "stdout",
     "output_type": "stream",
     "text": [
      "\n",
      "Input: lozinku resetirati\n",
      "Class: cijena_paketa, Probability: 0.2010\n",
      "Class: ostalo, Probability: 0.1826\n",
      "Class: problem_prijave, Probability: 0.1876\n",
      "Class: reset_lozinke, Probability: 0.4289\n",
      "\n",
      "Predicted class: reset_lozinke\n"
     ]
    }
   ],
   "source": [
    "# Original text\n",
    "text = [\"Kako ću lozinku resetirati?\"]\n",
    "\n",
    "# Clean each sentence\n",
    "new_text_clean = [clean_text(sentence, stopwords_hr) for sentence in text]\n",
    "\n",
    "# Lemmatize each cleaned sentence\n",
    "lemmatized_texts = [lemmatize_text(sentence) for sentence in new_text_clean]\n",
    "\n",
    "# Predict probabilities using the lemmatized text(s)\n",
    "proba = model.predict_proba(lemmatized_texts)\n",
    "\n",
    "# Output probabilities\n",
    "for sentence, probs in zip(lemmatized_texts, proba):\n",
    "    print(f\"\\nInput: {sentence}\")\n",
    "    for cls, prob in zip(model.classes_, probs):\n",
    "        print(f\"Class: {cls}, Probability: {prob:.4f}\")\n",
    "\n",
    "# Print predicted class\n",
    "print(\"\\nPredicted class:\", model.predict(lemmatized_texts)[0])"
   ]
  },
  {
   "cell_type": "code",
   "execution_count": 13,
   "id": "39c43496",
   "metadata": {},
   "outputs": [
    {
     "name": "stdout",
     "output_type": "stream",
     "text": [
      "\n",
      "Input: pojasnite pakete\n",
      "Class: cijena_paketa, Probability: 0.3895\n",
      "Class: ostalo, Probability: 0.2393\n",
      "Class: problem_prijave, Probability: 0.2196\n",
      "Class: reset_lozinke, Probability: 0.1516\n",
      "\n",
      "Predicted class: cijena_paketa\n"
     ]
    }
   ],
   "source": [
    "# Original text\n",
    "text = [\"Pojasnite mi vaše pakete.\"]\n",
    "\n",
    "# Clean each sentence\n",
    "new_text_clean = [clean_text(sentence, stopwords_hr) for sentence in text]\n",
    "\n",
    "# Lemmatize each cleaned sentence\n",
    "lemmatized_texts = [lemmatize_text(sentence) for sentence in new_text_clean]\n",
    "\n",
    "# Predict probabilities using the lemmatized text(s)\n",
    "proba = model.predict_proba(lemmatized_texts)\n",
    "\n",
    "# Output probabilities\n",
    "for sentence, probs in zip(lemmatized_texts, proba):\n",
    "    print(f\"\\nInput: {sentence}\")\n",
    "    for cls, prob in zip(model.classes_, probs):\n",
    "        print(f\"Class: {cls}, Probability: {prob:.4f}\")\n",
    "\n",
    "# Print predicted class\n",
    "print(\"\\nPredicted class:\", model.predict(lemmatized_texts)[0])\n"
   ]
  },
  {
   "cell_type": "code",
   "execution_count": 14,
   "id": "1f42bec9",
   "metadata": {},
   "outputs": [],
   "source": [
    "# Save the trained model to a file\n",
    "with open('model.bin', 'wb') as f:\n",
    "    pickle.dump(model, f)"
   ]
  }
 ],
 "metadata": {
  "kernelspec": {
   "display_name": "base",
   "language": "python",
   "name": "python3"
  },
  "language_info": {
   "codemirror_mode": {
    "name": "ipython",
    "version": 3
   },
   "file_extension": ".py",
   "mimetype": "text/x-python",
   "name": "python",
   "nbconvert_exporter": "python",
   "pygments_lexer": "ipython3",
   "version": "3.12.7"
  }
 },
 "nbformat": 4,
 "nbformat_minor": 5
}
