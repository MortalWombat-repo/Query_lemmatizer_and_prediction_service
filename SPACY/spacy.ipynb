{
 "cells": [
  {
   "cell_type": "code",
   "execution_count": 1,
   "id": "d4b85d6d",
   "metadata": {},
   "outputs": [],
   "source": [
    "import pandas as pd\n",
    "from kategorije_lemmatized_spacy import reset_lozinke, cijena_paketa, problem_prijave, ostalo\n",
    "import string\n",
    "from sklearn.model_selection import train_test_split\n",
    "from sklearn.feature_extraction.text import TfidfVectorizer\n",
    "from sklearn.linear_model import LogisticRegression\n",
    "from sklearn.pipeline import Pipeline\n",
    "import spacy\n",
    "from sklearn.metrics import accuracy_score, precision_score, recall_score, f1_score\n",
    "import re\n",
    "import os\n",
    "import pickle"
   ]
  },
  {
   "cell_type": "code",
   "execution_count": 2,
   "id": "4a76c20b",
   "metadata": {},
   "outputs": [
    {
     "data": {
      "text/plain": [
       "(90, 90, 90, 90)"
      ]
     },
     "execution_count": 2,
     "metadata": {},
     "output_type": "execute_result"
    }
   ],
   "source": [
    "len(reset_lozinke) , len(problem_prijave), len(cijena_paketa), len(ostalo)"
   ]
  },
  {
   "cell_type": "code",
   "execution_count": 3,
   "id": "acb541ec",
   "metadata": {},
   "outputs": [],
   "source": [
    "data = [reset_lozinke + cijena_paketa + problem_prijave + ostalo]"
   ]
  },
  {
   "cell_type": "code",
   "execution_count": 4,
   "id": "b89e9695",
   "metadata": {},
   "outputs": [
    {
     "data": {
      "text/html": [
       "<div>\n",
       "<style scoped>\n",
       "    .dataframe tbody tr th:only-of-type {\n",
       "        vertical-align: middle;\n",
       "    }\n",
       "\n",
       "    .dataframe tbody tr th {\n",
       "        vertical-align: top;\n",
       "    }\n",
       "\n",
       "    .dataframe thead th {\n",
       "        text-align: right;\n",
       "    }\n",
       "</style>\n",
       "<table border=\"1\" class=\"dataframe\">\n",
       "  <thead>\n",
       "    <tr style=\"text-align: right;\">\n",
       "      <th></th>\n",
       "      <th>lemmatized_text</th>\n",
       "      <th>label</th>\n",
       "    </tr>\n",
       "  </thead>\n",
       "  <tbody>\n",
       "    <tr>\n",
       "      <th>0</th>\n",
       "      <td>zaboraviti biti lozinka moći li ja pomoći da b...</td>\n",
       "      <td>reset_lozinke</td>\n",
       "    </tr>\n",
       "    <tr>\n",
       "      <th>1</th>\n",
       "      <td>moliti vi trebamti nov lozinka za svoj račun</td>\n",
       "      <td>reset_lozinke</td>\n",
       "    </tr>\n",
       "    <tr>\n",
       "      <th>2</th>\n",
       "      <td>ne sjećati sebe šifre kako moći promijeniti pr...</td>\n",
       "      <td>reset_lozinke</td>\n",
       "    </tr>\n",
       "    <tr>\n",
       "      <th>3</th>\n",
       "      <td>kako da zamijeniti svoj lozinka jer biti biti ...</td>\n",
       "      <td>reset_lozinke</td>\n",
       "    </tr>\n",
       "    <tr>\n",
       "      <th>4</th>\n",
       "      <td>trebamti link za reset lozinka moliti</td>\n",
       "      <td>reset_lozinke</td>\n",
       "    </tr>\n",
       "  </tbody>\n",
       "</table>\n",
       "</div>"
      ],
      "text/plain": [
       "                                     lemmatized_text          label\n",
       "0  zaboraviti biti lozinka moći li ja pomoći da b...  reset_lozinke\n",
       "1       moliti vi trebamti nov lozinka za svoj račun  reset_lozinke\n",
       "2  ne sjećati sebe šifre kako moći promijeniti pr...  reset_lozinke\n",
       "3  kako da zamijeniti svoj lozinka jer biti biti ...  reset_lozinke\n",
       "4              trebamti link za reset lozinka moliti  reset_lozinke"
      ]
     },
     "execution_count": 4,
     "metadata": {},
     "output_type": "execute_result"
    }
   ],
   "source": [
    "data = reset_lozinke + cijena_paketa + problem_prijave + ostalo\n",
    "\n",
    "labels = (\n",
    "    [\"reset_lozinke\"] * len(reset_lozinke) +\n",
    "    [\"cijena_paketa\"] * len(cijena_paketa) +\n",
    "    [\"problem_prijave\"] * len(problem_prijave) +\n",
    "    [\"ostalo\"] * len(ostalo)\n",
    ")\n",
    "\n",
    "# Create DataFrame\n",
    "df = pd.DataFrame({\n",
    "    \"lemmatized_text\": data,\n",
    "    \"label\": labels\n",
    "})\n",
    "\n",
    "df.head()"
   ]
  },
  {
   "cell_type": "code",
   "execution_count": 5,
   "id": "088120db",
   "metadata": {},
   "outputs": [
    {
     "data": {
      "text/html": [
       "<div>\n",
       "<style scoped>\n",
       "    .dataframe tbody tr th:only-of-type {\n",
       "        vertical-align: middle;\n",
       "    }\n",
       "\n",
       "    .dataframe tbody tr th {\n",
       "        vertical-align: top;\n",
       "    }\n",
       "\n",
       "    .dataframe thead th {\n",
       "        text-align: right;\n",
       "    }\n",
       "</style>\n",
       "<table border=\"1\" class=\"dataframe\">\n",
       "  <thead>\n",
       "    <tr style=\"text-align: right;\">\n",
       "      <th></th>\n",
       "      <th>spacy</th>\n",
       "    </tr>\n",
       "  </thead>\n",
       "  <tbody>\n",
       "    <tr>\n",
       "      <th>Accuracy</th>\n",
       "      <td>0.861111</td>\n",
       "    </tr>\n",
       "    <tr>\n",
       "      <th>Precision</th>\n",
       "      <td>0.871938</td>\n",
       "    </tr>\n",
       "    <tr>\n",
       "      <th>Recall</th>\n",
       "      <td>0.861111</td>\n",
       "    </tr>\n",
       "    <tr>\n",
       "      <th>F1-Score</th>\n",
       "      <td>0.862980</td>\n",
       "    </tr>\n",
       "  </tbody>\n",
       "</table>\n",
       "</div>"
      ],
      "text/plain": [
       "              spacy\n",
       "Accuracy   0.861111\n",
       "Precision  0.871938\n",
       "Recall     0.861111\n",
       "F1-Score   0.862980"
      ]
     },
     "execution_count": 5,
     "metadata": {},
     "output_type": "execute_result"
    }
   ],
   "source": [
    "# Splitting the dataset\n",
    "X_train, X_test, y_train, y_test = train_test_split(df['lemmatized_text'], df['label'], test_size=0.2, random_state=42)\n",
    "\n",
    "# Creating a pipeline with TF/IDF vectorizer and Logistic Regression\n",
    "model = Pipeline([('tfidf', TfidfVectorizer()), ('clf', LogisticRegression())])\n",
    "\n",
    "# Training the model\n",
    "model.fit(X_train, y_train)\n",
    "\n",
    "# Predicting on the test set\n",
    "y_pred = model.predict(X_test)\n",
    "\n",
    "accuracy =  accuracy_score(y_test, y_pred)\n",
    "precision = precision_score(y_test, y_pred, average='weighted')\n",
    "recall = recall_score(y_test, y_pred, average='weighted')\n",
    "f1 = f1_score(y_test, y_pred, average='weighted')\n",
    "\n",
    "metrics = {\n",
    "    'Accuracy': accuracy,\n",
    "    'Precision': precision,\n",
    "    'Recall': recall,\n",
    "    'F1-Score': f1\n",
    "}\n",
    "\n",
    "spacy_metrics = pd.DataFrame.from_dict(metrics, orient='index', columns=['spacy'])\n",
    "spacy_metrics"
   ]
  },
  {
   "cell_type": "code",
   "execution_count": 6,
   "id": "b86de224",
   "metadata": {},
   "outputs": [
    {
     "name": "stdout",
     "output_type": "stream",
     "text": [
      "0\n"
     ]
    }
   ],
   "source": [
    "print(df.duplicated(subset=['lemmatized_text']).sum())"
   ]
  },
  {
   "cell_type": "code",
   "execution_count": 7,
   "id": "1a092363",
   "metadata": {},
   "outputs": [],
   "source": [
    "nlp = spacy.load(\"hr_core_news_md\")\n",
    "\n",
    "def spacy_lemmatize_hr(text):\n",
    "    doc = nlp(text)\n",
    "    return \" \".join([token.lemma_ for token in doc])"
   ]
  },
  {
   "cell_type": "code",
   "execution_count": 18,
   "id": "4d5ad880",
   "metadata": {},
   "outputs": [
    {
     "name": "stdout",
     "output_type": "stream",
     "text": [
      "\n",
      "Input: kako htjeti lozinka resetirati ?\n",
      "Class: cijena_paketa, Probability: 0.1293\n",
      "Class: ostalo, Probability: 0.3216\n",
      "Class: problem_prijave, Probability: 0.1111\n",
      "Class: reset_lozinke, Probability: 0.4380\n",
      "\n",
      "Predicted class: reset_lozinke\n"
     ]
    }
   ],
   "source": [
    "text = \"Kako ću lozinku resetirati?\"\n",
    "\n",
    "lemmatized_text = spacy_lemmatize_hr(text)\n",
    "\n",
    "# Wrap the lemmatized text in a list\n",
    "lemmatized_input = [lemmatized_text]\n",
    "\n",
    "# Probability predictions\n",
    "proba = model.predict_proba(lemmatized_input)\n",
    "# Print class probabilities with labels\n",
    "for text, probs in zip(lemmatized_input, proba):\n",
    "    print(f\"\\nInput: {text}\")\n",
    "    for cls, prob in zip(model.classes_, probs):\n",
    "        print(f\"Class: {cls}, Probability: {prob:.4f}\")\n",
    "\n",
    "# Print predicted class\n",
    "print(\"\\nPredicted class:\", model.predict(lemmatized_input)[0])"
   ]
  },
  {
   "cell_type": "code",
   "execution_count": 9,
   "id": "2073320f",
   "metadata": {},
   "outputs": [
    {
     "name": "stdout",
     "output_type": "stream",
     "text": [
      "\n",
      "Input: pojasniti ja vaš paket .\n",
      "Class: cijena_paketa, Probability: 0.7627\n",
      "Class: ostalo, Probability: 0.0669\n",
      "Class: problem_prijave, Probability: 0.0994\n",
      "Class: reset_lozinke, Probability: 0.0710\n",
      "\n",
      "Predicted class: cijena_paketa\n"
     ]
    }
   ],
   "source": [
    "text = \"Pojasnite mi vaše pakete.\"\n",
    "\n",
    "lemmatized_text = spacy_lemmatize_hr(text)\n",
    "\n",
    "# Wrap the lemmatized text in a list\n",
    "lemmatized_input = [lemmatized_text]\n",
    "\n",
    "# Probability predictions\n",
    "proba = model.predict_proba(lemmatized_input)\n",
    "# Print class probabilities with labels\n",
    "for text, probs in zip(lemmatized_input, proba):\n",
    "    print(f\"\\nInput: {text}\")\n",
    "    for cls, prob in zip(model.classes_, probs):\n",
    "        print(f\"Class: {cls}, Probability: {prob:.4f}\")\n",
    "\n",
    "# Print predicted class\n",
    "print(\"\\nPredicted class:\", model.predict(lemmatized_input)[0])"
   ]
  },
  {
   "cell_type": "markdown",
   "id": "f0bc519f",
   "metadata": {},
   "source": [
    "## With Stopwords"
   ]
  },
  {
   "cell_type": "code",
   "execution_count": 10,
   "id": "b4a83bdf",
   "metadata": {},
   "outputs": [],
   "source": [
    "# Correctly get the file path from the parent directory\n",
    "stopwords_path = os.path.join(os.path.abspath('..'), 'croatian_stopwords.txt')\n",
    "\n",
    "# Open and load the stopwords\n",
    "with open(stopwords_path, encoding='utf-8') as f:\n",
    "    stopwords_hr = {w.strip() for w in f if w.strip()}"
   ]
  },
  {
   "cell_type": "code",
   "execution_count": 11,
   "id": "01a51642",
   "metadata": {},
   "outputs": [],
   "source": [
    "def clean_text(text, stopwords):\n",
    "    text = text.strip().lower()\n",
    "    text = re.sub(f\"[{re.escape(string.punctuation)}]\", \"\", text)\n",
    "    text = re.sub(r\"\\d+\", \"\", text)\n",
    "    tokens = text.split()\n",
    "    filtered = [t for t in tokens if t not in stopwords]\n",
    "    return \" \".join(filtered)"
   ]
  },
  {
   "cell_type": "code",
   "execution_count": 12,
   "id": "37ce5209",
   "metadata": {},
   "outputs": [
    {
     "name": "stdout",
     "output_type": "stream",
     "text": [
      "\n",
      "Input: lozinka resetirati\n",
      "Class: cijena_paketa, Probability: 0.1288\n",
      "Class: ostalo, Probability: 0.1506\n",
      "Class: problem_prijave, Probability: 0.1375\n",
      "Class: reset_lozinke, Probability: 0.5831\n",
      "\n",
      "Predicted class: reset_lozinke\n"
     ]
    }
   ],
   "source": [
    "# Original text\n",
    "text = [\"Kako ću lozinku resetirati?\"]\n",
    "\n",
    "# Clean each sentence\n",
    "new_text_clean = [clean_text(sentence, stopwords_hr) for sentence in text]\n",
    "\n",
    "# Lemmatize each cleaned sentence\n",
    "lemmatized_texts = [spacy_lemmatize_hr(sentence) for sentence in new_text_clean]\n",
    "\n",
    "# Predict probabilities using the lemmatized text(s)\n",
    "proba = model.predict_proba(lemmatized_texts)\n",
    "\n",
    "# Output probabilities\n",
    "for sentence, probs in zip(lemmatized_texts, proba):\n",
    "    print(f\"\\nInput: {sentence}\")\n",
    "    for cls, prob in zip(model.classes_, probs):\n",
    "        print(f\"Class: {cls}, Probability: {prob:.4f}\")\n",
    "\n",
    "# Print predicted class\n",
    "print(\"\\nPredicted class:\", model.predict(lemmatized_texts)[0])"
   ]
  },
  {
   "cell_type": "code",
   "execution_count": 13,
   "id": "39c43496",
   "metadata": {},
   "outputs": [
    {
     "name": "stdout",
     "output_type": "stream",
     "text": [
      "\n",
      "Input: pojasniti paket\n",
      "Class: cijena_paketa, Probability: 0.6621\n",
      "Class: ostalo, Probability: 0.1206\n",
      "Class: problem_prijave, Probability: 0.1278\n",
      "Class: reset_lozinke, Probability: 0.0894\n",
      "\n",
      "Predicted class: cijena_paketa\n"
     ]
    }
   ],
   "source": [
    "# Original text\n",
    "text = [\"Pojasnite mi vaše pakete.\"]\n",
    "\n",
    "# Clean each sentence\n",
    "new_text_clean = [clean_text(sentence, stopwords_hr) for sentence in text]\n",
    "\n",
    "# Lemmatize each cleaned sentence\n",
    "lemmatized_texts = [spacy_lemmatize_hr(sentence) for sentence in new_text_clean]\n",
    "\n",
    "# Predict probabilities using the lemmatized text(s)\n",
    "proba = model.predict_proba(lemmatized_texts)\n",
    "\n",
    "# Output probabilities\n",
    "for sentence, probs in zip(lemmatized_texts, proba):\n",
    "    print(f\"\\nInput: {sentence}\")\n",
    "    for cls, prob in zip(model.classes_, probs):\n",
    "        print(f\"Class: {cls}, Probability: {prob:.4f}\")\n",
    "\n",
    "# Print predicted class\n",
    "print(\"\\nPredicted class:\", model.predict(lemmatized_texts)[0])\n"
   ]
  },
  {
   "cell_type": "code",
   "execution_count": 14,
   "id": "4a82f6db",
   "metadata": {},
   "outputs": [],
   "source": [
    "# Save the trained model to a file\n",
    "with open('model.bin', 'wb') as f:\n",
    "    pickle.dump(model, f)"
   ]
  }
 ],
 "metadata": {
  "kernelspec": {
   "display_name": "base",
   "language": "python",
   "name": "python3"
  },
  "language_info": {
   "codemirror_mode": {
    "name": "ipython",
    "version": 3
   },
   "file_extension": ".py",
   "mimetype": "text/x-python",
   "name": "python",
   "nbconvert_exporter": "python",
   "pygments_lexer": "ipython3",
   "version": "3.12.7"
  }
 },
 "nbformat": 4,
 "nbformat_minor": 5
}
