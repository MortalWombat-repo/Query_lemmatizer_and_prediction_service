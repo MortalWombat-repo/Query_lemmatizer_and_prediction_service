{
 "cells": [
  {
   "cell_type": "code",
   "execution_count": 1,
   "id": "d4b85d6d",
   "metadata": {},
   "outputs": [],
   "source": [
    "import pandas as pd\n",
    "from kategorije_lemmatized_stanza import reset_lozinke, cijena_paketa, problem_prijave, ostalo\n",
    "import string\n",
    "from sklearn.model_selection import train_test_split\n",
    "from sklearn.feature_extraction.text import TfidfVectorizer\n",
    "from sklearn.linear_model import LogisticRegression\n",
    "from sklearn.pipeline import Pipeline\n",
    "import stanza\n",
    "from sklearn.metrics import accuracy_score, precision_score, recall_score, f1_score\n",
    "import re\n",
    "import os\n",
    "import pickle"
   ]
  },
  {
   "cell_type": "code",
   "execution_count": 2,
   "id": "4a76c20b",
   "metadata": {},
   "outputs": [
    {
     "data": {
      "text/plain": [
       "(90, 90, 90, 90)"
      ]
     },
     "execution_count": 2,
     "metadata": {},
     "output_type": "execute_result"
    }
   ],
   "source": [
    "len(reset_lozinke) , len(problem_prijave), len(cijena_paketa), len(ostalo)"
   ]
  },
  {
   "cell_type": "code",
   "execution_count": 3,
   "id": "acb541ec",
   "metadata": {},
   "outputs": [],
   "source": [
    "data = [reset_lozinke + cijena_paketa + problem_prijave + ostalo]"
   ]
  },
  {
   "cell_type": "code",
   "execution_count": 4,
   "id": "b89e9695",
   "metadata": {},
   "outputs": [
    {
     "data": {
      "text/html": [
       "<div>\n",
       "<style scoped>\n",
       "    .dataframe tbody tr th:only-of-type {\n",
       "        vertical-align: middle;\n",
       "    }\n",
       "\n",
       "    .dataframe tbody tr th {\n",
       "        vertical-align: top;\n",
       "    }\n",
       "\n",
       "    .dataframe thead th {\n",
       "        text-align: right;\n",
       "    }\n",
       "</style>\n",
       "<table border=\"1\" class=\"dataframe\">\n",
       "  <thead>\n",
       "    <tr style=\"text-align: right;\">\n",
       "      <th></th>\n",
       "      <th>lemmatized_text</th>\n",
       "      <th>label</th>\n",
       "    </tr>\n",
       "  </thead>\n",
       "  <tbody>\n",
       "    <tr>\n",
       "      <th>0</th>\n",
       "      <td>zaboraviti biti lozinak moći li ja pomoći da b...</td>\n",
       "      <td>reset_lozinke</td>\n",
       "    </tr>\n",
       "    <tr>\n",
       "      <th>1</th>\n",
       "      <td>moliti vi trebati nov lozinak za svoj račun</td>\n",
       "      <td>reset_lozinke</td>\n",
       "    </tr>\n",
       "    <tr>\n",
       "      <th>2</th>\n",
       "      <td>ne sjećati sebe šifra kako moći promijeniti pr...</td>\n",
       "      <td>reset_lozinke</td>\n",
       "    </tr>\n",
       "    <tr>\n",
       "      <th>3</th>\n",
       "      <td>kako da zamijeniti svoj lozinak jer biti biti ...</td>\n",
       "      <td>reset_lozinke</td>\n",
       "    </tr>\n",
       "    <tr>\n",
       "      <th>4</th>\n",
       "      <td>trebati link za reset lozinak moliti</td>\n",
       "      <td>reset_lozinke</td>\n",
       "    </tr>\n",
       "  </tbody>\n",
       "</table>\n",
       "</div>"
      ],
      "text/plain": [
       "                                     lemmatized_text          label\n",
       "0  zaboraviti biti lozinak moći li ja pomoći da b...  reset_lozinke\n",
       "1        moliti vi trebati nov lozinak za svoj račun  reset_lozinke\n",
       "2  ne sjećati sebe šifra kako moći promijeniti pr...  reset_lozinke\n",
       "3  kako da zamijeniti svoj lozinak jer biti biti ...  reset_lozinke\n",
       "4               trebati link za reset lozinak moliti  reset_lozinke"
      ]
     },
     "execution_count": 4,
     "metadata": {},
     "output_type": "execute_result"
    }
   ],
   "source": [
    "data = reset_lozinke + cijena_paketa + problem_prijave + ostalo\n",
    "\n",
    "labels = (\n",
    "    [\"reset_lozinke\"] * len(reset_lozinke) +\n",
    "    [\"cijena_paketa\"] * len(cijena_paketa) +\n",
    "    [\"problem_prijave\"] * len(problem_prijave) +\n",
    "    [\"ostalo\"] * len(ostalo)\n",
    ")\n",
    "\n",
    "# Create DataFrame\n",
    "df = pd.DataFrame({\n",
    "    \"lemmatized_text\": data,\n",
    "    \"label\": labels\n",
    "})\n",
    "\n",
    "df.head()"
   ]
  },
  {
   "cell_type": "code",
   "execution_count": 5,
   "id": "088120db",
   "metadata": {},
   "outputs": [
    {
     "data": {
      "text/html": [
       "<div>\n",
       "<style scoped>\n",
       "    .dataframe tbody tr th:only-of-type {\n",
       "        vertical-align: middle;\n",
       "    }\n",
       "\n",
       "    .dataframe tbody tr th {\n",
       "        vertical-align: top;\n",
       "    }\n",
       "\n",
       "    .dataframe thead th {\n",
       "        text-align: right;\n",
       "    }\n",
       "</style>\n",
       "<table border=\"1\" class=\"dataframe\">\n",
       "  <thead>\n",
       "    <tr style=\"text-align: right;\">\n",
       "      <th></th>\n",
       "      <th>stanza</th>\n",
       "    </tr>\n",
       "  </thead>\n",
       "  <tbody>\n",
       "    <tr>\n",
       "      <th>Accuracy</th>\n",
       "      <td>0.847222</td>\n",
       "    </tr>\n",
       "    <tr>\n",
       "      <th>Precision</th>\n",
       "      <td>0.862606</td>\n",
       "    </tr>\n",
       "    <tr>\n",
       "      <th>Recall</th>\n",
       "      <td>0.847222</td>\n",
       "    </tr>\n",
       "    <tr>\n",
       "      <th>F1-Score</th>\n",
       "      <td>0.849218</td>\n",
       "    </tr>\n",
       "  </tbody>\n",
       "</table>\n",
       "</div>"
      ],
      "text/plain": [
       "             stanza\n",
       "Accuracy   0.847222\n",
       "Precision  0.862606\n",
       "Recall     0.847222\n",
       "F1-Score   0.849218"
      ]
     },
     "execution_count": 5,
     "metadata": {},
     "output_type": "execute_result"
    }
   ],
   "source": [
    "# Splitting the dataset\n",
    "X_train, X_test, y_train, y_test = train_test_split(df['lemmatized_text'], df['label'], test_size=0.2, random_state=42)\n",
    "\n",
    "# Creating a pipeline with TF/IDF vectorizer and Logistic Regression\n",
    "model = Pipeline([('tfidf', TfidfVectorizer()), ('clf', LogisticRegression())])\n",
    "\n",
    "# Training the model\n",
    "model.fit(X_train, y_train)\n",
    "\n",
    "# Predicting on the test set\n",
    "y_pred = model.predict(X_test)\n",
    "\n",
    "accuracy =  accuracy_score(y_test, y_pred)\n",
    "precision = precision_score(y_test, y_pred, average='weighted')\n",
    "recall = recall_score(y_test, y_pred, average='weighted')\n",
    "f1 = f1_score(y_test, y_pred, average='weighted')\n",
    "\n",
    "metrics = {\n",
    "    'Accuracy': accuracy,\n",
    "    'Precision': precision,\n",
    "    'Recall': recall,\n",
    "    'F1-Score': f1\n",
    "}\n",
    "\n",
    "stanza_metrics = pd.DataFrame.from_dict(metrics, orient='index', columns=['stanza'])\n",
    "stanza_metrics"
   ]
  },
  {
   "cell_type": "code",
   "execution_count": 6,
   "id": "b86de224",
   "metadata": {},
   "outputs": [
    {
     "name": "stdout",
     "output_type": "stream",
     "text": [
      "0\n"
     ]
    }
   ],
   "source": [
    "print(df.duplicated(subset=['lemmatized_text']).sum())"
   ]
  },
  {
   "cell_type": "code",
   "execution_count": 7,
   "id": "1a092363",
   "metadata": {},
   "outputs": [
    {
     "data": {
      "application/vnd.jupyter.widget-view+json": {
       "model_id": "46b1a992c9224c23b97dc405b0ef7ec6",
       "version_major": 2,
       "version_minor": 0
      },
      "text/plain": [
       "Downloading https://raw.githubusercontent.com/stanfordnlp/stanza-resources/main/resources_1.10.0.json:   0%|  …"
      ]
     },
     "metadata": {},
     "output_type": "display_data"
    },
    {
     "name": "stderr",
     "output_type": "stream",
     "text": [
      "2025-07-14 12:31:00 INFO: Downloaded file to /home/ikar/stanza_resources/resources.json\n",
      "2025-07-14 12:31:00 INFO: Downloading default packages for language: hr (Croatian) ...\n",
      "2025-07-14 12:31:01 INFO: File exists: /home/ikar/stanza_resources/hr/default.zip\n",
      "2025-07-14 12:31:02 INFO: Finished downloading models and saved to /home/ikar/stanza_resources\n",
      "2025-07-14 12:31:02 INFO: Checking for updates to resources.json in case models have been updated.  Note: this behavior can be turned off with download_method=None or download_method=DownloadMethod.REUSE_RESOURCES\n"
     ]
    },
    {
     "data": {
      "application/vnd.jupyter.widget-view+json": {
       "model_id": "ce440e46cf3e42b1b501a5a35e1c84b4",
       "version_major": 2,
       "version_minor": 0
      },
      "text/plain": [
       "Downloading https://raw.githubusercontent.com/stanfordnlp/stanza-resources/main/resources_1.10.0.json:   0%|  …"
      ]
     },
     "metadata": {},
     "output_type": "display_data"
    },
    {
     "name": "stderr",
     "output_type": "stream",
     "text": [
      "2025-07-14 12:31:02 INFO: Downloaded file to /home/ikar/stanza_resources/resources.json\n",
      "2025-07-14 12:31:03 INFO: Loading these models for language: hr (Croatian):\n",
      "============================\n",
      "| Processor | Package      |\n",
      "----------------------------\n",
      "| tokenize  | set          |\n",
      "| pos       | set_nocharlm |\n",
      "| lemma     | set_nocharlm |\n",
      "============================\n",
      "\n",
      "2025-07-14 12:31:03 INFO: Using device: cpu\n",
      "2025-07-14 12:31:03 INFO: Loading: tokenize\n",
      "2025-07-14 12:31:04 INFO: Loading: pos\n",
      "2025-07-14 12:31:05 INFO: Loading: lemma\n",
      "2025-07-14 12:31:05 INFO: Done loading processors!\n"
     ]
    }
   ],
   "source": [
    "# initialize the Croatian model\n",
    "stanza.download('hr')\n",
    "nlp = stanza.Pipeline('hr', processors='tokenize,pos,lemma')\n",
    "\n",
    "def stanza_lemmatize_croatian(text):\n",
    "    doc = nlp(text)\n",
    "    return ' '.join([word.lemma for sent in doc.sentences for word in sent.words])"
   ]
  },
  {
   "cell_type": "code",
   "execution_count": 8,
   "id": "4d5ad880",
   "metadata": {},
   "outputs": [
    {
     "name": "stdout",
     "output_type": "stream",
     "text": [
      "\n",
      "Input: kako htjeti lozinak resetirati ?\n",
      "Class: cijena_paketa, Probability: 0.1329\n",
      "Class: ostalo, Probability: 0.3360\n",
      "Class: problem_prijave, Probability: 0.1195\n",
      "Class: reset_lozinke, Probability: 0.4115\n",
      "\n",
      "Predicted class: reset_lozinke\n"
     ]
    }
   ],
   "source": [
    "text = \"Kako ću lozinku resetirati?\"\n",
    "\n",
    "lemmatized_text = stanza_lemmatize_croatian(text)\n",
    "\n",
    "# Wrap the lemmatized text in a list\n",
    "lemmatized_input = [lemmatized_text]\n",
    "\n",
    "# Probability predictions\n",
    "proba = model.predict_proba(lemmatized_input)\n",
    "# Print class probabilities with labels\n",
    "for text, probs in zip(lemmatized_input, proba):\n",
    "    print(f\"\\nInput: {text}\")\n",
    "    for cls, prob in zip(model.classes_, probs):\n",
    "        print(f\"Class: {cls}, Probability: {prob:.4f}\")\n",
    "\n",
    "# Print predicted class\n",
    "print(\"\\nPredicted class:\", model.predict(lemmatized_input)[0])"
   ]
  },
  {
   "cell_type": "code",
   "execution_count": 9,
   "id": "2073320f",
   "metadata": {},
   "outputs": [
    {
     "name": "stdout",
     "output_type": "stream",
     "text": [
      "\n",
      "Input: pojasniti ja vaš paket .\n",
      "Class: cijena_paketa, Probability: 0.7718\n",
      "Class: ostalo, Probability: 0.0653\n",
      "Class: problem_prijave, Probability: 0.0957\n",
      "Class: reset_lozinke, Probability: 0.0672\n",
      "\n",
      "Predicted class: cijena_paketa\n"
     ]
    }
   ],
   "source": [
    "text = \"Pojasnite mi vaše pakete.\"\n",
    "\n",
    "lemmatized_text = stanza_lemmatize_croatian(text)\n",
    "\n",
    "# Wrap the lemmatized text in a list\n",
    "lemmatized_input = [lemmatized_text]\n",
    "\n",
    "# Probability predictions\n",
    "proba = model.predict_proba(lemmatized_input)\n",
    "# Print class probabilities with labels\n",
    "for text, probs in zip(lemmatized_input, proba):\n",
    "    print(f\"\\nInput: {text}\")\n",
    "    for cls, prob in zip(model.classes_, probs):\n",
    "        print(f\"Class: {cls}, Probability: {prob:.4f}\")\n",
    "\n",
    "# Print predicted class\n",
    "print(\"\\nPredicted class:\", model.predict(lemmatized_input)[0])"
   ]
  },
  {
   "cell_type": "markdown",
   "id": "f0bc519f",
   "metadata": {},
   "source": [
    "## With Stopwords"
   ]
  },
  {
   "cell_type": "code",
   "execution_count": 11,
   "id": "b4a83bdf",
   "metadata": {},
   "outputs": [],
   "source": [
    "# Correctly get the file path from the parent directory\n",
    "stopwords_path = os.path.join(os.path.abspath('..'), 'croatian_stopwords.txt')\n",
    "\n",
    "# Open and load the stopwords\n",
    "with open(stopwords_path, encoding='utf-8') as f:\n",
    "    stopwords_hr = {w.strip() for w in f if w.strip()}"
   ]
  },
  {
   "cell_type": "code",
   "execution_count": 12,
   "id": "01a51642",
   "metadata": {},
   "outputs": [],
   "source": [
    "def clean_text(text, stopwords):\n",
    "    text = text.strip().lower()\n",
    "    text = re.sub(f\"[{re.escape(string.punctuation)}]\", \"\", text)\n",
    "    text = re.sub(r\"\\d+\", \"\", text)\n",
    "    tokens = text.split()\n",
    "    filtered = [t for t in tokens if t not in stopwords]\n",
    "    return \" \".join(filtered)"
   ]
  },
  {
   "cell_type": "code",
   "execution_count": 13,
   "id": "37ce5209",
   "metadata": {},
   "outputs": [
    {
     "name": "stdout",
     "output_type": "stream",
     "text": [
      "\n",
      "Input: lozinak resetirati\n",
      "Class: cijena_paketa, Probability: 0.1378\n",
      "Class: ostalo, Probability: 0.1642\n",
      "Class: problem_prijave, Probability: 0.1539\n",
      "Class: reset_lozinke, Probability: 0.5441\n",
      "\n",
      "Predicted class: reset_lozinke\n"
     ]
    }
   ],
   "source": [
    "# Original text\n",
    "text = [\"Kako ću lozinku resetirati?\"]\n",
    "\n",
    "# Clean each sentence\n",
    "new_text_clean = [clean_text(sentence, stopwords_hr) for sentence in text]\n",
    "\n",
    "# Lemmatize each cleaned sentence\n",
    "lemmatized_texts = [stanza_lemmatize_croatian(sentence) for sentence in new_text_clean]\n",
    "\n",
    "# Predict probabilities using the lemmatized text(s)\n",
    "proba = model.predict_proba(lemmatized_texts)\n",
    "\n",
    "# Output probabilities\n",
    "for sentence, probs in zip(lemmatized_texts, proba):\n",
    "    print(f\"\\nInput: {sentence}\")\n",
    "    for cls, prob in zip(model.classes_, probs):\n",
    "        print(f\"Class: {cls}, Probability: {prob:.4f}\")\n",
    "\n",
    "# Print predicted class\n",
    "print(\"\\nPredicted class:\", model.predict(lemmatized_texts)[0])"
   ]
  },
  {
   "cell_type": "code",
   "execution_count": 14,
   "id": "39c43496",
   "metadata": {},
   "outputs": [
    {
     "name": "stdout",
     "output_type": "stream",
     "text": [
      "\n",
      "Input: pojasniti paket\n",
      "Class: cijena_paketa, Probability: 0.6597\n",
      "Class: ostalo, Probability: 0.1219\n",
      "Class: problem_prijave, Probability: 0.1294\n",
      "Class: reset_lozinke, Probability: 0.0890\n",
      "\n",
      "Predicted class: cijena_paketa\n"
     ]
    }
   ],
   "source": [
    "# Original text\n",
    "text = [\"Pojasnite mi vaše pakete.\"]\n",
    "\n",
    "# Clean each sentence\n",
    "new_text_clean = [clean_text(sentence, stopwords_hr) for sentence in text]\n",
    "\n",
    "# Lemmatize each cleaned sentence\n",
    "lemmatized_texts = [stanza_lemmatize_croatian(sentence) for sentence in new_text_clean]\n",
    "\n",
    "# Predict probabilities using the lemmatized text(s)\n",
    "proba = model.predict_proba(lemmatized_texts)\n",
    "\n",
    "# Output probabilities\n",
    "for sentence, probs in zip(lemmatized_texts, proba):\n",
    "    print(f\"\\nInput: {sentence}\")\n",
    "    for cls, prob in zip(model.classes_, probs):\n",
    "        print(f\"Class: {cls}, Probability: {prob:.4f}\")\n",
    "\n",
    "# Print predicted class\n",
    "print(\"\\nPredicted class:\", model.predict(lemmatized_texts)[0])\n"
   ]
  },
  {
   "cell_type": "code",
   "execution_count": 16,
   "id": "4a58edbd",
   "metadata": {},
   "outputs": [],
   "source": [
    "# Save the trained model to a file\n",
    "with open('model.bin', 'wb') as f:\n",
    "    pickle.dump(model, f)"
   ]
  }
 ],
 "metadata": {
  "kernelspec": {
   "display_name": "base",
   "language": "python",
   "name": "python3"
  },
  "language_info": {
   "codemirror_mode": {
    "name": "ipython",
    "version": 3
   },
   "file_extension": ".py",
   "mimetype": "text/x-python",
   "name": "python",
   "nbconvert_exporter": "python",
   "pygments_lexer": "ipython3",
   "version": "3.12.7"
  }
 },
 "nbformat": 4,
 "nbformat_minor": 5
}
